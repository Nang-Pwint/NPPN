{
 "cells": [
  {
   "cell_type": "code",
   "execution_count": 1,
   "metadata": {},
   "outputs": [
    {
     "data": {
      "text/plain": [
       "'/home/nang/Python Files/gitlab python file/https-github.com-Pierian-Data-Complete-Python-3-Bootcamp-master/13-Advanced Python Modules'"
      ]
     },
     "execution_count": 1,
     "metadata": {},
     "output_type": "execute_result"
    }
   ],
   "source": [
    "pwd"
   ]
  },
  {
   "cell_type": "code",
   "execution_count": 2,
   "metadata": {},
   "outputs": [],
   "source": [
    "f = open('pratice.txt','w+')\n",
    "f.write(\"This is a text string\")\n",
    "f.close()"
   ]
  },
  {
   "cell_type": "code",
   "execution_count": 3,
   "metadata": {},
   "outputs": [],
   "source": [
    "import os"
   ]
  },
  {
   "cell_type": "code",
   "execution_count": 4,
   "metadata": {},
   "outputs": [
    {
     "data": {
      "text/plain": [
       "'/home/nang/Python Files/gitlab python file/https-github.com-Pierian-Data-Complete-Python-3-Bootcamp-master/13-Advanced Python Modules'"
      ]
     },
     "execution_count": 4,
     "metadata": {},
     "output_type": "execute_result"
    }
   ],
   "source": [
    "os.getcwd()"
   ]
  },
  {
   "cell_type": "code",
   "execution_count": 5,
   "metadata": {},
   "outputs": [
    {
     "data": {
      "text/plain": [
       "['03-Python Debugger (pdb).ipynb',\n",
       " '05-Regular Expressions - re.ipynb',\n",
       " '06-StringIO.ipynb',\n",
       " '01-Collections Module.ipynb',\n",
       " '04-Timing your code - timeit.ipynb',\n",
       " 'pratice.txt',\n",
       " '.ipynb_checkpoints',\n",
       " 'Untitled.ipynb',\n",
       " '02-Datetime.ipynb']"
      ]
     },
     "execution_count": 5,
     "metadata": {},
     "output_type": "execute_result"
    }
   ],
   "source": [
    "os.listdir()"
   ]
  },
  {
   "cell_type": "code",
   "execution_count": 6,
   "metadata": {},
   "outputs": [
    {
     "data": {
      "text/plain": [
       "['.eclipse',\n",
       " 'Untitled Folder',\n",
       " 'odoo11c-workspace',\n",
       " '.gitconfig',\n",
       " 'hs_err_pid3836.log',\n",
       " 'Untitled Folder 1',\n",
       " 'odoo13e-workspace',\n",
       " '.conda',\n",
       " '.local',\n",
       " 'Japanese',\n",
       " '.thunderbird',\n",
       " '.wget-hsts',\n",
       " '.pki',\n",
       " '.ssr',\n",
       " 'Templates',\n",
       " 'Pictures',\n",
       " '.git',\n",
       " '.swt',\n",
       " 'Videos',\n",
       " '.mozc',\n",
       " '.condarc',\n",
       " '.ViberPC',\n",
       " 'hs_err_pid26543.log',\n",
       " 'Documents',\n",
       " '.ssh',\n",
       " 'Public',\n",
       " 'snap',\n",
       " 'Untitled Document 1',\n",
       " 'hs_err_pid7639.log',\n",
       " 'Odoo Files',\n",
       " 'My Folder',\n",
       " 'CV(Pwint Phoo Ngon)',\n",
       " 'viber.deb',\n",
       " 'hs_err_pid3669.log',\n",
       " '.ipython',\n",
       " 'Desktop',\n",
       " '.python_history',\n",
       " '.gconf',\n",
       " 'iSGM Accounting',\n",
       " '.jupyter',\n",
       " 'Downloads',\n",
       " 'Python Files',\n",
       " '.mozilla',\n",
       " '.bash_logout',\n",
       " '.anaconda',\n",
       " '.profile',\n",
       " '.kingsoft',\n",
       " '.config',\n",
       " '.fonts',\n",
       " '.pgadmin',\n",
       " '.bash_history',\n",
       " 'git',\n",
       " '.pgAdmin4.startup.log',\n",
       " 'README.md',\n",
       " 'Daily',\n",
       " '.bashrc',\n",
       " '.ipynb_checkpoints',\n",
       " 'my_env',\n",
       " 'Untitled Folder 2',\n",
       " 'Decorators.ipynb',\n",
       " '.cache',\n",
       " '.sudo_as_admin_successful',\n",
       " 'eclipse-workspace',\n",
       " '.xinputrc',\n",
       " 'Music',\n",
       " '.tooling',\n",
       " '.gnupg',\n",
       " 'anaconda3',\n",
       " '.gphoto',\n",
       " 'django',\n",
       " '.pam_environment']"
      ]
     },
     "execution_count": 6,
     "metadata": {},
     "output_type": "execute_result"
    }
   ],
   "source": [
    "os.listdir(\"/home/nang/\")"
   ]
  },
  {
   "cell_type": "code",
   "execution_count": 9,
   "metadata": {},
   "outputs": [],
   "source": [
    "import shutil"
   ]
  },
  {
   "cell_type": "code",
   "execution_count": 12,
   "metadata": {},
   "outputs": [
    {
     "data": {
      "text/plain": [
       "'/home/nang/Python Files/pratice.txt'"
      ]
     },
     "execution_count": 12,
     "metadata": {},
     "output_type": "execute_result"
    }
   ],
   "source": [
    "shutil.move('pratice.txt','/home/nang/Python Files/')"
   ]
  },
  {
   "cell_type": "code",
   "execution_count": 13,
   "metadata": {},
   "outputs": [],
   "source": [
    "import send2trash"
   ]
  },
  {
   "cell_type": "code",
   "execution_count": 14,
   "metadata": {},
   "outputs": [
    {
     "data": {
      "text/plain": [
       "['03-Python Debugger (pdb).ipynb',\n",
       " '05-Regular Expressions - re.ipynb',\n",
       " '06-StringIO.ipynb',\n",
       " '01-Collections Module.ipynb',\n",
       " '04-Timing your code - timeit.ipynb',\n",
       " '.ipynb_checkpoints',\n",
       " 'Untitled.ipynb',\n",
       " '02-Datetime.ipynb']"
      ]
     },
     "execution_count": 14,
     "metadata": {},
     "output_type": "execute_result"
    }
   ],
   "source": [
    "os.listdir()"
   ]
  },
  {
   "cell_type": "code",
   "execution_count": 19,
   "metadata": {},
   "outputs": [
    {
     "data": {
      "text/plain": [
       "'/home/nang/Python Files/gitlab python file/https-github.com-Pierian-Data-Complete-Python-3-Bootcamp-master/13-Advanced Python Modules/pratice.txt'"
      ]
     },
     "execution_count": 19,
     "metadata": {},
     "output_type": "execute_result"
    }
   ],
   "source": [
    "shutil.move('/home/nang/Python Files/pratice.txt',os.getcwd())"
   ]
  },
  {
   "cell_type": "code",
   "execution_count": 20,
   "metadata": {},
   "outputs": [
    {
     "data": {
      "text/plain": [
       "'/home/nang/Python Files/gitlab python file/https-github.com-Pierian-Data-Complete-Python-3-Bootcamp-master/13-Advanced Python Modules'"
      ]
     },
     "execution_count": 20,
     "metadata": {},
     "output_type": "execute_result"
    }
   ],
   "source": [
    "os.getcwd()"
   ]
  },
  {
   "cell_type": "code",
   "execution_count": 21,
   "metadata": {},
   "outputs": [
    {
     "data": {
      "text/plain": [
       "['03-Python Debugger (pdb).ipynb',\n",
       " '05-Regular Expressions - re.ipynb',\n",
       " '06-StringIO.ipynb',\n",
       " '01-Collections Module.ipynb',\n",
       " '04-Timing your code - timeit.ipynb',\n",
       " 'pratice.txt',\n",
       " '.ipynb_checkpoints',\n",
       " 'Untitled.ipynb',\n",
       " '02-Datetime.ipynb']"
      ]
     },
     "execution_count": 21,
     "metadata": {},
     "output_type": "execute_result"
    }
   ],
   "source": [
    "os.listdir()"
   ]
  },
  {
   "cell_type": "code",
   "execution_count": 22,
   "metadata": {},
   "outputs": [],
   "source": [
    "send2trash.send2trash('pratice.txt')"
   ]
  },
  {
   "cell_type": "code",
   "execution_count": 24,
   "metadata": {},
   "outputs": [
    {
     "data": {
      "text/plain": [
       "['03-Python Debugger (pdb).ipynb',\n",
       " '05-Regular Expressions - re.ipynb',\n",
       " '06-StringIO.ipynb',\n",
       " '01-Collections Module.ipynb',\n",
       " '04-Timing your code - timeit.ipynb',\n",
       " 'Example-Top-Level',\n",
       " '.ipynb_checkpoints',\n",
       " 'Untitled.ipynb',\n",
       " '02-Datetime.ipynb']"
      ]
     },
     "execution_count": 24,
     "metadata": {},
     "output_type": "execute_result"
    }
   ],
   "source": [
    "os.listdir()"
   ]
  },
  {
   "cell_type": "code",
   "execution_count": 25,
   "metadata": {},
   "outputs": [
    {
     "data": {
      "text/plain": [
       "'/home/nang/Python Files/gitlab python file/https-github.com-Pierian-Data-Complete-Python-3-Bootcamp-master/13-Advanced Python Modules'"
      ]
     },
     "execution_count": 25,
     "metadata": {},
     "output_type": "execute_result"
    }
   ],
   "source": [
    "os.getcwd()"
   ]
  },
  {
   "cell_type": "code",
   "execution_count": 32,
   "metadata": {},
   "outputs": [],
   "source": [
    "path= '/home/nang/Python Files/gitlab python file/https-github.com-Pierian-Data-Complete-Python-3-Bootcamp-master/13-Advanced Python Modules/Example-Top-Level/'"
   ]
  },
  {
   "cell_type": "code",
   "execution_count": 35,
   "metadata": {},
   "outputs": [
    {
     "name": "stdout",
     "output_type": "stream",
     "text": [
      "The Current Looking at /home/nang/Python Files/gitlab python file/https-github.com-Pierian-Data-Complete-Python-3-Bootcamp-master/13-Advanced Python Modules/Example-Top-Level/\n",
      "\n",
      "\n",
      "The Sub Folder are :\n",
      "\t Sub folder is:Mid-Example-Two\n",
      "\t Sub folder is:Mid-Example-One\n",
      "\n",
      "\n",
      "The File is :\n",
      "\t File :MId-Example.txt\n",
      "Conculation\n",
      "The Current Looking at /home/nang/Python Files/gitlab python file/https-github.com-Pierian-Data-Complete-Python-3-Bootcamp-master/13-Advanced Python Modules/Example-Top-Level/Mid-Example-Two\n",
      "\n",
      "\n",
      "The Sub Folder are :\n",
      "\n",
      "\n",
      "The File is :\n",
      "Conculation\n",
      "The Current Looking at /home/nang/Python Files/gitlab python file/https-github.com-Pierian-Data-Complete-Python-3-Bootcamp-master/13-Advanced Python Modules/Example-Top-Level/Mid-Example-One\n",
      "\n",
      "\n",
      "The Sub Folder are :\n",
      "\t Sub folder is:Bottom-Level-Two\n",
      "\t Sub folder is:Bottom-Level-One\n",
      "\n",
      "\n",
      "The File is :\n",
      "\t File :Bottom-Leve-Doc.txt\n",
      "Conculation\n",
      "The Current Looking at /home/nang/Python Files/gitlab python file/https-github.com-Pierian-Data-Complete-Python-3-Bootcamp-master/13-Advanced Python Modules/Example-Top-Level/Mid-Example-One/Bottom-Level-Two\n",
      "\n",
      "\n",
      "The Sub Folder are :\n",
      "\n",
      "\n",
      "The File is :\n",
      "\t File :Bottom-Text-Tow.txt\n",
      "Conculation\n",
      "The Current Looking at /home/nang/Python Files/gitlab python file/https-github.com-Pierian-Data-Complete-Python-3-Bootcamp-master/13-Advanced Python Modules/Example-Top-Level/Mid-Example-One/Bottom-Level-One\n",
      "\n",
      "\n",
      "The Sub Folder are :\n",
      "\n",
      "\n",
      "The File is :\n",
      "\t File :One-Text.txt\n",
      "Conculation\n"
     ]
    }
   ],
   "source": [
    "for folder,sub_folders,file in os.walk(path):\n",
    "    print (f\"The Current Looking at {folder}\")\n",
    "    print (\"\\n\")\n",
    "    print (\"The Sub Folder are :\")\n",
    "    for sub_fold in sub_folders:\n",
    "        print(f\"\\t Sub folder is:{sub_fold}\")\n",
    "    print (\"\\n\")\n",
    "    print (\"The File is :\")\n",
    "    for f in file:\n",
    "        print (f\"\\t File :{f}\")\n",
    "    print (\"Conculation\")"
   ]
  },
  {
   "cell_type": "code",
   "execution_count": null,
   "metadata": {},
   "outputs": [],
   "source": []
  }
 ],
 "metadata": {
  "kernelspec": {
   "display_name": "Python 3",
   "language": "python",
   "name": "python3"
  },
  "language_info": {
   "codemirror_mode": {
    "name": "ipython",
    "version": 3
   },
   "file_extension": ".py",
   "mimetype": "text/x-python",
   "name": "python",
   "nbconvert_exporter": "python",
   "pygments_lexer": "ipython3",
   "version": "3.7.6"
  }
 },
 "nbformat": 4,
 "nbformat_minor": 4
}
