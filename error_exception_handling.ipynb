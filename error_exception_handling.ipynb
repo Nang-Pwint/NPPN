{
 "cells": [
  {
   "cell_type": "code",
   "execution_count": 5,
   "metadata": {},
   "outputs": [],
   "source": [
    "def ask_for_int():\n",
    "    \n",
    "    while True:\n",
    "        try:\n",
    "            result = int (input(\"Please Provide numbers: \"))\n",
    "        except:\n",
    "            print(\"Woops! That is not a number!!\")\n",
    "            continue\n",
    "        else:\n",
    "            print (\"Result is \",result)\n",
    "            break\n",
    "\n",
    "        finally:\n",
    "            print(\"This is final.\")\n",
    "        "
   ]
  },
  {
   "cell_type": "code",
   "execution_count": 6,
   "metadata": {},
   "outputs": [
    {
     "name": "stdout",
     "output_type": "stream",
     "text": [
      "Please Provide numbers: haha\n",
      "Woops! That is not a number!!\n",
      "This is final.\n",
      "Please Provide numbers: hoho\n",
      "Woops! That is not a number!!\n",
      "This is final.\n",
      "Please Provide numbers: yoyo\n",
      "Woops! That is not a number!!\n",
      "This is final.\n",
      "Please Provide numbers: 12\n",
      "Result is  12\n",
      "This is final.\n"
     ]
    }
   ],
   "source": [
    "ask_for_int()"
   ]
  },
  {
   "cell_type": "code",
   "execution_count": null,
   "metadata": {},
   "outputs": [],
   "source": []
  }
 ],
 "metadata": {
  "kernelspec": {
   "display_name": "Python 3",
   "language": "python",
   "name": "python3"
  },
  "language_info": {
   "codemirror_mode": {
    "name": "ipython",
    "version": 3
   },
   "file_extension": ".py",
   "mimetype": "text/x-python",
   "name": "python",
   "nbconvert_exporter": "python",
   "pygments_lexer": "ipython3",
   "version": "3.7.6"
  }
 },
 "nbformat": 4,
 "nbformat_minor": 4
}
